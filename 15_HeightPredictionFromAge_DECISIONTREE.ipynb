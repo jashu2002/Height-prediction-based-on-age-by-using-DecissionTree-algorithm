{
  "cells": [
    {
      "cell_type": "markdown",
      "metadata": {
        "id": "9upAdYqegB_x"
      },
      "source": [
        "### *Import Dataset*"
      ]
    },
    {
      "cell_type": "code",
      "execution_count": null,
      "metadata": {
        "id": "GjMl9L6ZftID"
      },
      "outputs": [],
      "source": [
        "import pandas as pd\n",
        "import numpy as np\n",
        "import matplotlib.pyplot as plt"
      ]
    },
    {
      "cell_type": "markdown",
      "metadata": {
        "id": "WoCwFZcCggmo"
      },
      "source": [
        "### *Load Dataset from Local directory*"
      ]
    },
    {
      "cell_type": "code",
      "execution_count": null,
      "metadata": {
        "id": "SZUScnR6giB_"
      },
      "outputs": [],
      "source": [
        "from google.colab import files\n",
        "uploaded = files.upload()"
      ]
    },
    {
      "cell_type": "markdown",
      "metadata": {
        "id": "Lkv0ec26goUn"
      },
      "source": [
        "### *Load Dataset*"
      ]
    },
    {
      "cell_type": "code",
      "execution_count": null,
      "metadata": {
        "id": "VXznHA3Ygp1D"
      },
      "outputs": [],
      "source": [
        "dataset = pd.read_csv('dataset.csv')"
      ]
    },
    {
      "cell_type": "markdown",
      "metadata": {
        "id": "SP3BCTeBgtEs"
      },
      "source": [
        "### *Summarize Dataset*"
      ]
    },
    {
      "cell_type": "code",
      "execution_count": null,
      "metadata": {
        "id": "KK_OCewugxN5"
      },
      "outputs": [],
      "source": [
        "print(dataset.shape)\n",
        "print(dataset.head(5))"
      ]
    },
    {
      "cell_type": "markdown",
      "metadata": {
        "id": "a33Ajb9sgzLn"
      },
      "source": [
        "### *Segregate Dataset into Input X & Output Y*"
      ]
    },
    {
      "cell_type": "code",
      "execution_count": null,
      "metadata": {
        "id": "9ukPm659g2YW"
      },
      "outputs": [],
      "source": [
        "X = dataset.iloc[:, :-1].values\n",
        "X"
      ]
    },
    {
      "cell_type": "code",
      "execution_count": null,
      "metadata": {
        "id": "tFWv_jSqg7Lk"
      },
      "outputs": [],
      "source": [
        "Y = dataset.iloc[:, -1].values\n",
        "Y"
      ]
    },
    {
      "cell_type": "markdown",
      "metadata": {
        "id": "IYyfP8iig_QQ"
      },
      "source": [
        "### *Splitting Dataset for Testing our Model*"
      ]
    },
    {
      "cell_type": "code",
      "execution_count": null,
      "metadata": {
        "id": "_qg_VgJYhBGH"
      },
      "outputs": [],
      "source": [
        "from sklearn.model_selection import train_test_split\n",
        "x_train,x_test,y_train,y_test = train_test_split(X,Y,test_size=0.20,random_state=0)"
      ]
    },
    {
      "cell_type": "markdown",
      "metadata": {
        "id": "hnz1qqorhFfx"
      },
      "source": [
        "### *Training Dataset using Decision Tree*"
      ]
    },
    {
      "cell_type": "code",
      "execution_count": null,
      "metadata": {
        "id": "WJKykKNZhOga"
      },
      "outputs": [],
      "source": [
        "from sklearn.tree import DecisionTreeRegressor  \n",
        "model = DecisionTreeRegressor()  \n",
        "model.fit(x_train, y_train)"
      ]
    },
    {
      "cell_type": "markdown",
      "metadata": {
        "id": "25U2-mrmh2ws"
      },
      "source": [
        "### *Visualizing Graph*"
      ]
    },
    {
      "cell_type": "code",
      "execution_count": null,
      "metadata": {
        "id": "0fOGjHKJh15e"
      },
      "outputs": [],
      "source": [
        "X_val = np.arange(min(x_train), max(x_train), 0.01) \n",
        "X_val = X_val.reshape((len(X_val), 1))\n",
        "plt.scatter(x_train, y_train, color = 'green') \n",
        "plt.plot(X_val, model.predict(X_val), color = 'red')  \n",
        "plt.title('Height prediction using DecisionTree') \n",
        "plt.xlabel('Age') \n",
        "plt.ylabel('Height') \n",
        "plt.figure()\n",
        "plt.show()"
      ]
    },
    {
      "cell_type": "markdown",
      "metadata": {
        "id": "Trcf1Wm5hY0-"
      },
      "source": [
        "### *Prediction for all test data for validation*"
      ]
    },
    {
      "cell_type": "code",
      "execution_count": null,
      "metadata": {
        "id": "JxZ0riErhajr"
      },
      "outputs": [],
      "source": [
        "ypred = model.predict(x_test)\n",
        "\n",
        "from sklearn.metrics import r2_score,mean_squared_error\n",
        "mse = mean_squared_error(y_test,ypred)\n",
        "rmse=np.sqrt(mse)\n",
        "print(\"Root Mean Square Error:\",rmse)\n",
        "r2score = r2_score(y_test,ypred)\n",
        "print(\"R2Score\",r2score*100)"
      ]
    }
  ],
  "metadata": {
    "colab": {
      "name": "15_HeightPredictionFromAge_DECISIONTREE.ipynb",
      "provenance": []
    },
    "kernelspec": {
      "display_name": "Python 3",
      "name": "python3"
    },
    "language_info": {
      "name": "python"
    }
  },
  "nbformat": 4,
  "nbformat_minor": 0
}
